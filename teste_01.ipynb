{
 "cells": [
  {
   "cell_type": "code",
   "execution_count": 45,
   "metadata": {},
   "outputs": [],
   "source": [
    "import os\n",
    "import findspark\n",
    "from pyspark.sql import SparkSession\n",
    "from pyspark.sql.functions import col, when, regexp_replace,when, lit,udf\n",
    "from pyspark.sql.types import FloatType\n",
    "from pyspark import SparkConf,SparkContext\n",
    "import pyspark.sql.functions as F \n",
    "from typing import Callable\n",
    "from pyspark.sql import DataFrame\n",
    "from pyspark.ml.feature import StringIndexer, OneHotEncoder,VectorAssembler\n",
    "from pyspark.ml import Pipeline\n",
    "from pyspark.sql.window import Window\n",
    "from pyspark.sql.functions import monotonically_increasing_id\n",
    "from pyspark.sql.functions import countDistinct\n",
    "from pyspark.ml.recommendation import ALS\n",
    "from pyspark.ml.evaluation import RegressionEvaluator"
   ]
  },
  {
   "cell_type": "code",
   "execution_count": 23,
   "metadata": {},
   "outputs": [],
   "source": [
    "findspark.init(\"D:\\spark\")"
   ]
  },
  {
   "cell_type": "code",
   "execution_count": 24,
   "metadata": {},
   "outputs": [],
   "source": [
    "os.environ[\"SPARK_HOME\"]=r\"C:\\spark\"\n",
    "os.environ[\"HADOOP_HOME\"]=r\"C:\\spark\\hadoop\\bin\"\n",
    "os.environ[\"JAVA_HOME\"]=r\"C:\\Program Files\\Java\\jdk-20\""
   ]
  },
  {
   "cell_type": "code",
   "execution_count": 46,
   "metadata": {},
   "outputs": [],
   "source": [
    "\n",
    "\n",
    "conf = SparkConf()\n",
    "conf.set(\"spark.app.name\",\"SparkApp\")\n",
    "conf.set(\"spark.master\",\"local[*]\")\n",
    "spark = SparkSession.builder\\\n",
    "    .config(conf=conf)\\\n",
    "    .appName(\"teste\")\\\n",
    "    .getOrCreate()\n",
    "\n",
    "\n",
    "sc = spark.sparkContext\n",
    "\n",
    "file_path = r\"C:\\spyderteste\\dataseths\\data_superstore.csv\"\n",
    "\n",
    "df = spark.read.csv(file_path, header=True, inferSchema=True, sep=\";\")\n"
   ]
  },
  {
   "cell_type": "code",
   "execution_count": 26,
   "metadata": {},
   "outputs": [],
   "source": [
    "\n",
    "data = df.select(\n",
    "\"OrderID\", \"ShipDate\", \"CustomerID\", \"City\", \"Sub-Category\", \"ProductName\",\"ShipMode\",\n",
    "    F.regexp_replace(\"Sales\", \",\", \".\").cast(FloatType()).alias(\"Sales\"),\n",
    "    \"Quantity\",\n",
    "    F.regexp_replace(\"Discount\", \",\", \".\").cast(FloatType()).alias(\"Discount\")\n",
    ").where(\"ShipMode = 'Second Class'\")\n",
    "valores = df.groupBy(\"Category\").agg(\n",
    "    F.count(\"OrderID\").alias(\"CountOrderID\")\n",
    ")\n"
   ]
  },
  {
   "cell_type": "code",
   "execution_count": 27,
   "metadata": {},
   "outputs": [
    {
     "name": "stdout",
     "output_type": "stream",
     "text": [
      "+-----+--------------+----------+----------+--------------+----------+------------------+-----------+-------------+---------------+--------------+----------+-------+---------------+---------------+------------+--------------------+--------+--------+--------+--------+-------------+--------------+----------------+----------+------------------+-----------------+--------------+-----------+--------------+--------------+\n",
      "|RowID|       OrderID| OrderDate|  ShipDate|      ShipMode|CustomerID|      CustomerName|    Segment|      Country|           City|         State|PostalCode| Region|      ProductID|       Category|Sub-Category|         ProductName|   Sales|Quantity|Discount|  Profit|OrderID_index|ShipDate_index|CustomerID_index|City_index|Sub-Category_index|ProductName_index|ShipMode_index|Sales_index|Quantity_index|Discount_index|\n",
      "+-----+--------------+----------+----------+--------------+----------+------------------+-----------+-------------+---------------+--------------+----------+-------+---------------+---------------+------------+--------------------+--------+--------+--------+--------+-------------+--------------+----------------+----------+------------------+-----------------+--------------+-----------+--------------+--------------+\n",
      "|    1|CA-2016-152156|08/11/2016|11/11/2016|  Second Class|  CG-12520|       Claire Gute|   Consumer|United States|      Henderson|      Kentucky|     42420|  South|FUR-BO-10001798|      Furniture|   Bookcases|Bush Somerset Col...|  261,96|       2|       0| 41,9136|       1854.0|        1018.0|           717.0|      26.0|              12.0|           1178.0|           1.0|     1296.0|           1.0|           0.0|\n",
      "|    2|CA-2016-152156|08/11/2016|11/11/2016|  Second Class|  CG-12520|       Claire Gute|   Consumer|United States|      Henderson|      Kentucky|     42420|  South|FUR-CH-10000454|      Furniture|      Chairs|Hon Deluxe Fabric...|  731,94|       3|       0| 219,582|       1854.0|        1018.0|           717.0|      26.0|               7.0|             37.0|           1.0|     5358.0|           0.0|           0.0|\n",
      "|    3|CA-2016-138688|12/06/2016|16/06/2016|  Second Class|  DV-13045|   Darrin Van Huff|  Corporate|United States|    Los Angeles|    California|     90036|   West|OFF-LA-10000240|Office Supplies|      Labels|Self-Adhesive Add...|   14,62|       2|       0|  6,8714|       3623.0|         204.0|           539.0|       1.0|               9.0|            512.0|           1.0|       13.0|           1.0|           0.0|\n",
      "|    4|US-2015-108966|11/10/2015|18/10/2015|Standard Class|  SO-20335|    Sean O'Donnell|   Consumer|United States|Fort Lauderdale|       Florida|     33311|  South|FUR-TA-10000577|      Furniture|      Tables|Bretford CR4500 S...|957,5775|       5|    0,45|-383,031|       2329.0|        1159.0|           251.0|     107.0|              10.0|            246.0|           0.0|     5770.0|           2.0|          11.0|\n",
      "|    5|US-2015-108966|11/10/2015|18/10/2015|Standard Class|  SO-20335|    Sean O'Donnell|   Consumer|United States|Fort Lauderdale|       Florida|     33311|  South|OFF-ST-10000760|Office Supplies|     Storage|Eldon Fold 'N Rol...|  22,368|       2|     0,2|  2,5164|       2329.0|        1159.0|           251.0|     107.0|               4.0|            906.0|           0.0|      589.0|           1.0|           1.0|\n",
      "|    6|CA-2014-115812|09/06/2014|14/06/2014|Standard Class|  BH-11710|   Brosina Hoffman|   Consumer|United States|    Los Angeles|    California|     90032|   West|FUR-FU-10001487|      Furniture| Furnishings|Eldon Expressions...|   48,86|       7|       0| 14,1694|         36.0|         494.0|            35.0|       1.0|               2.0|            904.0|           0.0|     1620.0|           5.0|           0.0|\n",
      "|    7|CA-2014-115812|09/06/2014|14/06/2014|Standard Class|  BH-11710|   Brosina Hoffman|   Consumer|United States|    Los Angeles|    California|     90032|   West|OFF-AR-10002833|Office Supplies|         Art|          Newell 322|    7,28|       4|       0|  1,9656|         36.0|         494.0|            35.0|       1.0|               5.0|            720.0|           0.0|      777.0|           3.0|           0.0|\n",
      "|    8|CA-2014-115812|09/06/2014|14/06/2014|Standard Class|  BH-11710|   Brosina Hoffman|   Consumer|United States|    Los Angeles|    California|     90032|   West|TEC-PH-10002275|     Technology|      Phones|Mitel 5320 IP Pho...| 907,152|       6|     0,2| 90,7152|         36.0|         494.0|            35.0|       1.0|               3.0|           1278.0|           0.0|     5700.0|           6.0|           1.0|\n",
      "|    9|CA-2014-115812|09/06/2014|14/06/2014|Standard Class|  BH-11710|   Brosina Hoffman|   Consumer|United States|    Los Angeles|    California|     90032|   West|OFF-BI-10003910|Office Supplies|     Binders|DXL Angle-View Bi...|  18,504|       3|     0,2|  5,7825|         36.0|         494.0|            35.0|       1.0|               0.0|             88.0|           0.0|     2954.0|           0.0|           1.0|\n",
      "|   10|CA-2014-115812|09/06/2014|14/06/2014|Standard Class|  BH-11710|   Brosina Hoffman|   Consumer|United States|    Los Angeles|    California|     90032|   West|OFF-AP-10002892|Office Supplies|  Appliances|Belkin F5C206VTEL...|   114,9|       5|       0|   34,47|         36.0|         494.0|            35.0|       1.0|               8.0|            396.0|           0.0|      916.0|           2.0|           0.0|\n",
      "|   11|CA-2014-115812|09/06/2014|14/06/2014|Standard Class|  BH-11710|   Brosina Hoffman|   Consumer|United States|    Los Angeles|    California|     90032|   West|FUR-TA-10001539|      Furniture|      Tables|Chromcraft Rectan...|1706,184|       9|     0,2| 85,3092|         36.0|         494.0|            35.0|       1.0|              10.0|            145.0|           0.0|     2897.0|           7.0|           1.0|\n",
      "|   12|CA-2014-115812|09/06/2014|14/06/2014|Standard Class|  BH-11710|   Brosina Hoffman|   Consumer|United States|    Los Angeles|    California|     90032|   West|TEC-PH-10002033|     Technology|      Phones|Konftel 250 Confe...| 911,424|       4|     0,2| 68,3568|         36.0|         494.0|            35.0|       1.0|               3.0|           1256.0|           0.0|     5717.0|           3.0|           1.0|\n",
      "|   13|CA-2017-114412|15/04/2017|20/04/2017|Standard Class|  AA-10480|      Andrew Allen|   Consumer|United States|        Concord|North Carolina|     28027|  South|OFF-PA-10002365|Office Supplies|       Paper|          Xerox 1967|  15,552|       3|     0,2|  5,4432|       4035.0|         824.0|           363.0|      48.0|               1.0|           1072.0|           0.0|        1.0|           0.0|           1.0|\n",
      "|   14|CA-2016-161389|05/12/2016|10/12/2016|Standard Class|  IM-15070|      Irene Maddox|   Consumer|United States|        Seattle|    Washington|     98103|   West|OFF-BI-10003656|Office Supplies|     Binders|Fellowes PB200 Pl...| 407,976|       3|     0,2|132,5922|       3811.0|         127.0|            77.0|       4.0|               0.0|            155.0|           0.0|     4340.0|           0.0|           1.0|\n",
      "|   15|US-2015-118983|22/11/2015|26/11/2015|Standard Class|  HP-14815|     Harold Pawlan|Home Office|United States|     Fort Worth|         Texas|     76106|Central|OFF-AP-10002311|Office Supplies|  Appliances|Holmes Replacemen...|   68,81|       5|     0,8|-123,858|       2337.0|         224.0|           487.0|      59.0|               8.0|            102.0|           0.0|     5222.0|           2.0|           3.0|\n",
      "|   16|US-2015-118983|22/11/2015|26/11/2015|Standard Class|  HP-14815|     Harold Pawlan|Home Office|United States|     Fort Worth|         Texas|     76106|Central|OFF-BI-10000756|Office Supplies|     Binders|Storex DuraTech R...|   2,544|       3|     0,8|  -3,816|       2337.0|         224.0|           487.0|      59.0|               0.0|            333.0|           0.0|     3118.0|           0.0|           3.0|\n",
      "|   17|CA-2014-105893|11/11/2014|18/11/2014|Standard Class|  PK-19075|         Pete Kriz|   Consumer|United States|        Madison|     Wisconsin|     53711|Central|OFF-ST-10004186|Office Supplies|     Storage|\"Stur-D-Stor Shel...|  665,88|       6|       0| 13,3176|       2516.0|         138.0|            32.0|     160.0|               4.0|            826.0|           0.0|     1794.0|           6.0|           0.0|\n",
      "|   18|CA-2014-167164|13/05/2014|15/05/2014|  Second Class|  AG-10270|   Alejandro Grove|   Consumer|United States|    West Jordan|          Utah|     84084|   West|OFF-ST-10000107|Office Supplies|     Storage|Fellowes Super St...|    55,5|       2|       0|    9,99|       2847.0|         167.0|           259.0|     299.0|               4.0|           1215.0|           1.0|     4854.0|           1.0|           0.0|\n",
      "|   19|CA-2014-143336|27/08/2014|01/09/2014|  Second Class|  ZD-21925|Zuschuss Donatelli|   Consumer|United States|  San Francisco|    California|     94109|   West|OFF-AR-10003056|Office Supplies|         Art|          Newell 341|    8,56|       2|       0|  2,4824|        707.0|         460.0|           575.0|       3.0|               5.0|            474.0|           1.0|       48.0|           1.0|           0.0|\n",
      "|   20|CA-2014-143336|27/08/2014|01/09/2014|  Second Class|  ZD-21925|Zuschuss Donatelli|   Consumer|United States|  San Francisco|    California|     94109|   West|TEC-PH-10001949|     Technology|      Phones|Cisco SPA 501G IP...|  213,48|       3|     0,2|  16,011|        707.0|         460.0|           575.0|       3.0|               3.0|           1781.0|           1.0|     3273.0|           0.0|           1.0|\n",
      "+-----+--------------+----------+----------+--------------+----------+------------------+-----------+-------------+---------------+--------------+----------+-------+---------------+---------------+------------+--------------------+--------+--------+--------+--------+-------------+--------------+----------------+----------+------------------+-----------------+--------------+-----------+--------------+--------------+\n",
      "only showing top 20 rows\n",
      "\n"
     ]
    }
   ],
   "source": [
    "\n",
    "columns_to_index = ['OrderID', 'ShipDate', 'CustomerID', 'City', 'Sub-Category', 'ProductName', 'ShipMode', 'Sales', 'Quantity', 'Discount']\n",
    "\n",
    "\n",
    "indexers = [StringIndexer(inputCol=col, outputCol=f\"{col}_index\").fit(df) for col in columns_to_index]\n",
    "\n",
    "\n",
    "for indexer in indexers:\n",
    "    df = indexer.transform(df)\n",
    "\n",
    "df.show()\n"
   ]
  },
  {
   "cell_type": "code",
   "execution_count": 28,
   "metadata": {},
   "outputs": [
    {
     "name": "stdout",
     "output_type": "stream",
     "text": [
      "+-----+--------------+----------+----------+--------------+----------+------------------+-----------+-------------+---------------+--------------+----------+-------+---------------+---------------+------------+--------------------+--------+--------+--------+--------+-------------+--------------+----------------+----------+------------------+-----------------+--------------+-----------+--------------+--------------+---------------------+----------------------+------------------------+------------------+--------------------------+-------------------------+----------------------+-------------------+----------------------+----------------------+\n",
      "|RowID|       OrderID| OrderDate|  ShipDate|      ShipMode|CustomerID|      CustomerName|    Segment|      Country|           City|         State|PostalCode| Region|      ProductID|       Category|Sub-Category|         ProductName|   Sales|Quantity|Discount|  Profit|OrderID_index|ShipDate_index|CustomerID_index|City_index|Sub-Category_index|ProductName_index|ShipMode_index|Sales_index|Quantity_index|Discount_index|OrderID_index_encoded|ShipDate_index_encoded|CustomerID_index_encoded|City_index_encoded|Sub-Category_index_encoded|ProductName_index_encoded|ShipMode_index_encoded|Sales_index_encoded|Quantity_index_encoded|Discount_index_encoded|\n",
      "+-----+--------------+----------+----------+--------------+----------+------------------+-----------+-------------+---------------+--------------+----------+-------+---------------+---------------+------------+--------------------+--------+--------+--------+--------+-------------+--------------+----------------+----------+------------------+-----------------+--------------+-----------+--------------+--------------+---------------------+----------------------+------------------------+------------------+--------------------------+-------------------------+----------------------+-------------------+----------------------+----------------------+\n",
      "|    1|CA-2016-152156|08/11/2016|11/11/2016|  Second Class|  CG-12520|       Claire Gute|   Consumer|United States|      Henderson|      Kentucky|     42420|  South|FUR-BO-10001798|      Furniture|   Bookcases|Bush Somerset Col...|  261,96|       2|       0| 41,9136|       1854.0|        1018.0|           717.0|      26.0|              12.0|           1178.0|           1.0|     1296.0|           1.0|           0.0|  (5008,[1854],[1.0])|   (1333,[1018],[1.0])|       (792,[717],[1.0])|  (530,[26],[1.0])|           (16,[12],[1.0])|      (1849,[1178],[1.0])|         (3,[1],[1.0])|(5824,[1296],[1.0])|        (13,[1],[1.0])|        (11,[0],[1.0])|\n",
      "|    2|CA-2016-152156|08/11/2016|11/11/2016|  Second Class|  CG-12520|       Claire Gute|   Consumer|United States|      Henderson|      Kentucky|     42420|  South|FUR-CH-10000454|      Furniture|      Chairs|Hon Deluxe Fabric...|  731,94|       3|       0| 219,582|       1854.0|        1018.0|           717.0|      26.0|               7.0|             37.0|           1.0|     5358.0|           0.0|           0.0|  (5008,[1854],[1.0])|   (1333,[1018],[1.0])|       (792,[717],[1.0])|  (530,[26],[1.0])|            (16,[7],[1.0])|        (1849,[37],[1.0])|         (3,[1],[1.0])|(5824,[5358],[1.0])|        (13,[0],[1.0])|        (11,[0],[1.0])|\n",
      "|    3|CA-2016-138688|12/06/2016|16/06/2016|  Second Class|  DV-13045|   Darrin Van Huff|  Corporate|United States|    Los Angeles|    California|     90036|   West|OFF-LA-10000240|Office Supplies|      Labels|Self-Adhesive Add...|   14,62|       2|       0|  6,8714|       3623.0|         204.0|           539.0|       1.0|               9.0|            512.0|           1.0|       13.0|           1.0|           0.0|  (5008,[3623],[1.0])|    (1333,[204],[1.0])|       (792,[539],[1.0])|   (530,[1],[1.0])|            (16,[9],[1.0])|       (1849,[512],[1.0])|         (3,[1],[1.0])|  (5824,[13],[1.0])|        (13,[1],[1.0])|        (11,[0],[1.0])|\n",
      "|    4|US-2015-108966|11/10/2015|18/10/2015|Standard Class|  SO-20335|    Sean O'Donnell|   Consumer|United States|Fort Lauderdale|       Florida|     33311|  South|FUR-TA-10000577|      Furniture|      Tables|Bretford CR4500 S...|957,5775|       5|    0,45|-383,031|       2329.0|        1159.0|           251.0|     107.0|              10.0|            246.0|           0.0|     5770.0|           2.0|          11.0|  (5008,[2329],[1.0])|   (1333,[1159],[1.0])|       (792,[251],[1.0])| (530,[107],[1.0])|           (16,[10],[1.0])|       (1849,[246],[1.0])|         (3,[0],[1.0])|(5824,[5770],[1.0])|        (13,[2],[1.0])|            (11,[],[])|\n",
      "|    5|US-2015-108966|11/10/2015|18/10/2015|Standard Class|  SO-20335|    Sean O'Donnell|   Consumer|United States|Fort Lauderdale|       Florida|     33311|  South|OFF-ST-10000760|Office Supplies|     Storage|Eldon Fold 'N Rol...|  22,368|       2|     0,2|  2,5164|       2329.0|        1159.0|           251.0|     107.0|               4.0|            906.0|           0.0|      589.0|           1.0|           1.0|  (5008,[2329],[1.0])|   (1333,[1159],[1.0])|       (792,[251],[1.0])| (530,[107],[1.0])|            (16,[4],[1.0])|       (1849,[906],[1.0])|         (3,[0],[1.0])| (5824,[589],[1.0])|        (13,[1],[1.0])|        (11,[1],[1.0])|\n",
      "|    6|CA-2014-115812|09/06/2014|14/06/2014|Standard Class|  BH-11710|   Brosina Hoffman|   Consumer|United States|    Los Angeles|    California|     90032|   West|FUR-FU-10001487|      Furniture| Furnishings|Eldon Expressions...|   48,86|       7|       0| 14,1694|         36.0|         494.0|            35.0|       1.0|               2.0|            904.0|           0.0|     1620.0|           5.0|           0.0|    (5008,[36],[1.0])|    (1333,[494],[1.0])|        (792,[35],[1.0])|   (530,[1],[1.0])|            (16,[2],[1.0])|       (1849,[904],[1.0])|         (3,[0],[1.0])|(5824,[1620],[1.0])|        (13,[5],[1.0])|        (11,[0],[1.0])|\n",
      "|    7|CA-2014-115812|09/06/2014|14/06/2014|Standard Class|  BH-11710|   Brosina Hoffman|   Consumer|United States|    Los Angeles|    California|     90032|   West|OFF-AR-10002833|Office Supplies|         Art|          Newell 322|    7,28|       4|       0|  1,9656|         36.0|         494.0|            35.0|       1.0|               5.0|            720.0|           0.0|      777.0|           3.0|           0.0|    (5008,[36],[1.0])|    (1333,[494],[1.0])|        (792,[35],[1.0])|   (530,[1],[1.0])|            (16,[5],[1.0])|       (1849,[720],[1.0])|         (3,[0],[1.0])| (5824,[777],[1.0])|        (13,[3],[1.0])|        (11,[0],[1.0])|\n",
      "|    8|CA-2014-115812|09/06/2014|14/06/2014|Standard Class|  BH-11710|   Brosina Hoffman|   Consumer|United States|    Los Angeles|    California|     90032|   West|TEC-PH-10002275|     Technology|      Phones|Mitel 5320 IP Pho...| 907,152|       6|     0,2| 90,7152|         36.0|         494.0|            35.0|       1.0|               3.0|           1278.0|           0.0|     5700.0|           6.0|           1.0|    (5008,[36],[1.0])|    (1333,[494],[1.0])|        (792,[35],[1.0])|   (530,[1],[1.0])|            (16,[3],[1.0])|      (1849,[1278],[1.0])|         (3,[0],[1.0])|(5824,[5700],[1.0])|        (13,[6],[1.0])|        (11,[1],[1.0])|\n",
      "|    9|CA-2014-115812|09/06/2014|14/06/2014|Standard Class|  BH-11710|   Brosina Hoffman|   Consumer|United States|    Los Angeles|    California|     90032|   West|OFF-BI-10003910|Office Supplies|     Binders|DXL Angle-View Bi...|  18,504|       3|     0,2|  5,7825|         36.0|         494.0|            35.0|       1.0|               0.0|             88.0|           0.0|     2954.0|           0.0|           1.0|    (5008,[36],[1.0])|    (1333,[494],[1.0])|        (792,[35],[1.0])|   (530,[1],[1.0])|            (16,[0],[1.0])|        (1849,[88],[1.0])|         (3,[0],[1.0])|(5824,[2954],[1.0])|        (13,[0],[1.0])|        (11,[1],[1.0])|\n",
      "|   10|CA-2014-115812|09/06/2014|14/06/2014|Standard Class|  BH-11710|   Brosina Hoffman|   Consumer|United States|    Los Angeles|    California|     90032|   West|OFF-AP-10002892|Office Supplies|  Appliances|Belkin F5C206VTEL...|   114,9|       5|       0|   34,47|         36.0|         494.0|            35.0|       1.0|               8.0|            396.0|           0.0|      916.0|           2.0|           0.0|    (5008,[36],[1.0])|    (1333,[494],[1.0])|        (792,[35],[1.0])|   (530,[1],[1.0])|            (16,[8],[1.0])|       (1849,[396],[1.0])|         (3,[0],[1.0])| (5824,[916],[1.0])|        (13,[2],[1.0])|        (11,[0],[1.0])|\n",
      "|   11|CA-2014-115812|09/06/2014|14/06/2014|Standard Class|  BH-11710|   Brosina Hoffman|   Consumer|United States|    Los Angeles|    California|     90032|   West|FUR-TA-10001539|      Furniture|      Tables|Chromcraft Rectan...|1706,184|       9|     0,2| 85,3092|         36.0|         494.0|            35.0|       1.0|              10.0|            145.0|           0.0|     2897.0|           7.0|           1.0|    (5008,[36],[1.0])|    (1333,[494],[1.0])|        (792,[35],[1.0])|   (530,[1],[1.0])|           (16,[10],[1.0])|       (1849,[145],[1.0])|         (3,[0],[1.0])|(5824,[2897],[1.0])|        (13,[7],[1.0])|        (11,[1],[1.0])|\n",
      "|   12|CA-2014-115812|09/06/2014|14/06/2014|Standard Class|  BH-11710|   Brosina Hoffman|   Consumer|United States|    Los Angeles|    California|     90032|   West|TEC-PH-10002033|     Technology|      Phones|Konftel 250 Confe...| 911,424|       4|     0,2| 68,3568|         36.0|         494.0|            35.0|       1.0|               3.0|           1256.0|           0.0|     5717.0|           3.0|           1.0|    (5008,[36],[1.0])|    (1333,[494],[1.0])|        (792,[35],[1.0])|   (530,[1],[1.0])|            (16,[3],[1.0])|      (1849,[1256],[1.0])|         (3,[0],[1.0])|(5824,[5717],[1.0])|        (13,[3],[1.0])|        (11,[1],[1.0])|\n",
      "|   13|CA-2017-114412|15/04/2017|20/04/2017|Standard Class|  AA-10480|      Andrew Allen|   Consumer|United States|        Concord|North Carolina|     28027|  South|OFF-PA-10002365|Office Supplies|       Paper|          Xerox 1967|  15,552|       3|     0,2|  5,4432|       4035.0|         824.0|           363.0|      48.0|               1.0|           1072.0|           0.0|        1.0|           0.0|           1.0|  (5008,[4035],[1.0])|    (1333,[824],[1.0])|       (792,[363],[1.0])|  (530,[48],[1.0])|            (16,[1],[1.0])|      (1849,[1072],[1.0])|         (3,[0],[1.0])|   (5824,[1],[1.0])|        (13,[0],[1.0])|        (11,[1],[1.0])|\n",
      "|   14|CA-2016-161389|05/12/2016|10/12/2016|Standard Class|  IM-15070|      Irene Maddox|   Consumer|United States|        Seattle|    Washington|     98103|   West|OFF-BI-10003656|Office Supplies|     Binders|Fellowes PB200 Pl...| 407,976|       3|     0,2|132,5922|       3811.0|         127.0|            77.0|       4.0|               0.0|            155.0|           0.0|     4340.0|           0.0|           1.0|  (5008,[3811],[1.0])|    (1333,[127],[1.0])|        (792,[77],[1.0])|   (530,[4],[1.0])|            (16,[0],[1.0])|       (1849,[155],[1.0])|         (3,[0],[1.0])|(5824,[4340],[1.0])|        (13,[0],[1.0])|        (11,[1],[1.0])|\n",
      "|   15|US-2015-118983|22/11/2015|26/11/2015|Standard Class|  HP-14815|     Harold Pawlan|Home Office|United States|     Fort Worth|         Texas|     76106|Central|OFF-AP-10002311|Office Supplies|  Appliances|Holmes Replacemen...|   68,81|       5|     0,8|-123,858|       2337.0|         224.0|           487.0|      59.0|               8.0|            102.0|           0.0|     5222.0|           2.0|           3.0|  (5008,[2337],[1.0])|    (1333,[224],[1.0])|       (792,[487],[1.0])|  (530,[59],[1.0])|            (16,[8],[1.0])|       (1849,[102],[1.0])|         (3,[0],[1.0])|(5824,[5222],[1.0])|        (13,[2],[1.0])|        (11,[3],[1.0])|\n",
      "|   16|US-2015-118983|22/11/2015|26/11/2015|Standard Class|  HP-14815|     Harold Pawlan|Home Office|United States|     Fort Worth|         Texas|     76106|Central|OFF-BI-10000756|Office Supplies|     Binders|Storex DuraTech R...|   2,544|       3|     0,8|  -3,816|       2337.0|         224.0|           487.0|      59.0|               0.0|            333.0|           0.0|     3118.0|           0.0|           3.0|  (5008,[2337],[1.0])|    (1333,[224],[1.0])|       (792,[487],[1.0])|  (530,[59],[1.0])|            (16,[0],[1.0])|       (1849,[333],[1.0])|         (3,[0],[1.0])|(5824,[3118],[1.0])|        (13,[0],[1.0])|        (11,[3],[1.0])|\n",
      "|   17|CA-2014-105893|11/11/2014|18/11/2014|Standard Class|  PK-19075|         Pete Kriz|   Consumer|United States|        Madison|     Wisconsin|     53711|Central|OFF-ST-10004186|Office Supplies|     Storage|\"Stur-D-Stor Shel...|  665,88|       6|       0| 13,3176|       2516.0|         138.0|            32.0|     160.0|               4.0|            826.0|           0.0|     1794.0|           6.0|           0.0|  (5008,[2516],[1.0])|    (1333,[138],[1.0])|        (792,[32],[1.0])| (530,[160],[1.0])|            (16,[4],[1.0])|       (1849,[826],[1.0])|         (3,[0],[1.0])|(5824,[1794],[1.0])|        (13,[6],[1.0])|        (11,[0],[1.0])|\n",
      "|   18|CA-2014-167164|13/05/2014|15/05/2014|  Second Class|  AG-10270|   Alejandro Grove|   Consumer|United States|    West Jordan|          Utah|     84084|   West|OFF-ST-10000107|Office Supplies|     Storage|Fellowes Super St...|    55,5|       2|       0|    9,99|       2847.0|         167.0|           259.0|     299.0|               4.0|           1215.0|           1.0|     4854.0|           1.0|           0.0|  (5008,[2847],[1.0])|    (1333,[167],[1.0])|       (792,[259],[1.0])| (530,[299],[1.0])|            (16,[4],[1.0])|      (1849,[1215],[1.0])|         (3,[1],[1.0])|(5824,[4854],[1.0])|        (13,[1],[1.0])|        (11,[0],[1.0])|\n",
      "|   19|CA-2014-143336|27/08/2014|01/09/2014|  Second Class|  ZD-21925|Zuschuss Donatelli|   Consumer|United States|  San Francisco|    California|     94109|   West|OFF-AR-10003056|Office Supplies|         Art|          Newell 341|    8,56|       2|       0|  2,4824|        707.0|         460.0|           575.0|       3.0|               5.0|            474.0|           1.0|       48.0|           1.0|           0.0|   (5008,[707],[1.0])|    (1333,[460],[1.0])|       (792,[575],[1.0])|   (530,[3],[1.0])|            (16,[5],[1.0])|       (1849,[474],[1.0])|         (3,[1],[1.0])|  (5824,[48],[1.0])|        (13,[1],[1.0])|        (11,[0],[1.0])|\n",
      "|   20|CA-2014-143336|27/08/2014|01/09/2014|  Second Class|  ZD-21925|Zuschuss Donatelli|   Consumer|United States|  San Francisco|    California|     94109|   West|TEC-PH-10001949|     Technology|      Phones|Cisco SPA 501G IP...|  213,48|       3|     0,2|  16,011|        707.0|         460.0|           575.0|       3.0|               3.0|           1781.0|           1.0|     3273.0|           0.0|           1.0|   (5008,[707],[1.0])|    (1333,[460],[1.0])|       (792,[575],[1.0])|   (530,[3],[1.0])|            (16,[3],[1.0])|      (1849,[1781],[1.0])|         (3,[1],[1.0])|(5824,[3273],[1.0])|        (13,[0],[1.0])|        (11,[1],[1.0])|\n",
      "+-----+--------------+----------+----------+--------------+----------+------------------+-----------+-------------+---------------+--------------+----------+-------+---------------+---------------+------------+--------------------+--------+--------+--------+--------+-------------+--------------+----------------+----------+------------------+-----------------+--------------+-----------+--------------+--------------+---------------------+----------------------+------------------------+------------------+--------------------------+-------------------------+----------------------+-------------------+----------------------+----------------------+\n",
      "only showing top 20 rows\n",
      "\n"
     ]
    }
   ],
   "source": [
    "\n",
    "all_columns = df.columns\n",
    "\n",
    "indexed_columns = [col_name for col_name in all_columns if \"_index\" in col_name]\n",
    "\n",
    "indexed_columns_encod = [col_name + \"_encoded\" for col_name in indexed_columns]\n",
    "\n",
    "onehot = OneHotEncoder(inputCols=indexed_columns, outputCols=indexed_columns_encod)\n",
    "\n",
    "modelo = onehot.fit(df)\n",
    "\n",
    "one = modelo.transform(df)\n",
    "\n",
    "one.show()\n"
   ]
  },
  {
   "cell_type": "code",
   "execution_count": 29,
   "metadata": {},
   "outputs": [
    {
     "name": "stdout",
     "output_type": "stream",
     "text": [
      "['OrderID_index_encoded', 'ShipDate_index_encoded', 'CustomerID_index_encoded', 'City_index_encoded', 'Sub-Category_index_encoded', 'ProductName_index_encoded', 'ShipMode_index_encoded', 'Sales_index_encoded', 'Quantity_index_encoded', 'Discount_index_encoded']\n"
     ]
    }
   ],
   "source": [
    "\n",
    "all_columns = one.columns\n",
    "\n",
    "encoded_columns = [col_name for col_name in all_columns if \"_encoded\" in col_name]\n",
    "\n",
    "print(encoded_columns)\n"
   ]
  },
  {
   "cell_type": "code",
   "execution_count": 30,
   "metadata": {},
   "outputs": [
    {
     "name": "stdout",
     "output_type": "stream",
     "text": [
      "+----------+--------------+---------------+-----+----------+----------+--------------+------------------+-----------+-------------+---------------+--------------+----------+-------+---------------+------------+--------------------+--------+--------+--------+--------+-------------+--------------+----------------+----------+------------------+-----------------+--------------+-----------+--------------+--------------+-------------+----------+------------+\n",
      "|CustomerID|       OrderID|      ProductID|RowID| OrderDate|  ShipDate|      ShipMode|      CustomerName|    Segment|      Country|           City|         State|PostalCode| Region|       Category|Sub-Category|         ProductName|   Sales|Quantity|Discount|  Profit|OrderID_index|ShipDate_index|CustomerID_index|City_index|Sub-Category_index|ProductName_index|ShipMode_index|Sales_index|Quantity_index|Discount_index|CustomerIDREF|OrderIDREF|ProductIDREF|\n",
      "+----------+--------------+---------------+-----+----------+----------+--------------+------------------+-----------+-------------+---------------+--------------+----------+-------+---------------+------------+--------------------+--------+--------+--------+--------+-------------+--------------+----------------+----------+------------------+-----------------+--------------+-----------+--------------+--------------+-------------+----------+------------+\n",
      "|  CG-12520|CA-2016-152156|FUR-BO-10001798|    1|08/11/2016|11/11/2016|  Second Class|       Claire Gute|   Consumer|United States|      Henderson|      Kentucky|     42420|  South|      Furniture|   Bookcases|Bush Somerset Col...|  261,96|       2|       0| 41,9136|       1854.0|        1018.0|           717.0|      26.0|              12.0|           1178.0|           1.0|     1296.0|           1.0|           0.0|         4320|      4320|        4320|\n",
      "|  CG-12520|CA-2016-152156|FUR-CH-10000454|    2|08/11/2016|11/11/2016|  Second Class|       Claire Gute|   Consumer|United States|      Henderson|      Kentucky|     42420|  South|      Furniture|      Chairs|Hon Deluxe Fabric...|  731,94|       3|       0| 219,582|       1854.0|        1018.0|           717.0|      26.0|               7.0|             37.0|           1.0|     5358.0|           0.0|           0.0|         8959|      8959|        8959|\n",
      "|  DV-13045|CA-2016-138688|OFF-LA-10000240|    3|12/06/2016|16/06/2016|  Second Class|   Darrin Van Huff|  Corporate|United States|    Los Angeles|    California|     90036|   West|Office Supplies|      Labels|Self-Adhesive Add...|   14,62|       2|       0|  6,8714|       3623.0|         204.0|           539.0|       1.0|               9.0|            512.0|           1.0|       13.0|           1.0|           0.0|         3289|      3289|        3289|\n",
      "|  SO-20335|US-2015-108966|FUR-TA-10000577|    4|11/10/2015|18/10/2015|Standard Class|    Sean O'Donnell|   Consumer|United States|Fort Lauderdale|       Florida|     33311|  South|      Furniture|      Tables|Bretford CR4500 S...|957,5775|       5|    0,45|-383,031|       2329.0|        1159.0|           251.0|     107.0|              10.0|            246.0|           0.0|     5770.0|           2.0|          11.0|          377|       377|         377|\n",
      "|  SO-20335|US-2015-108966|OFF-ST-10000760|    5|11/10/2015|18/10/2015|Standard Class|    Sean O'Donnell|   Consumer|United States|Fort Lauderdale|       Florida|     33311|  South|Office Supplies|     Storage|Eldon Fold 'N Rol...|  22,368|       2|     0,2|  2,5164|       2329.0|        1159.0|           251.0|     107.0|               4.0|            906.0|           0.0|      589.0|           1.0|           1.0|         7801|      7801|        7801|\n",
      "|  BH-11710|CA-2014-115812|FUR-FU-10001487|    6|09/06/2014|14/06/2014|Standard Class|   Brosina Hoffman|   Consumer|United States|    Los Angeles|    California|     90032|   West|      Furniture| Furnishings|Eldon Expressions...|   48,86|       7|       0| 14,1694|         36.0|         494.0|            35.0|       1.0|               2.0|            904.0|           0.0|     1620.0|           5.0|           0.0|         6416|      6416|        6416|\n",
      "|  BH-11710|CA-2014-115812|OFF-AR-10002833|    7|09/06/2014|14/06/2014|Standard Class|   Brosina Hoffman|   Consumer|United States|    Los Angeles|    California|     90032|   West|Office Supplies|         Art|          Newell 322|    7,28|       4|       0|  1,9656|         36.0|         494.0|            35.0|       1.0|               5.0|            720.0|           0.0|      777.0|           3.0|           0.0|         4096|      4096|        4096|\n",
      "|  BH-11710|CA-2014-115812|TEC-PH-10002275|    8|09/06/2014|14/06/2014|Standard Class|   Brosina Hoffman|   Consumer|United States|    Los Angeles|    California|     90032|   West|     Technology|      Phones|Mitel 5320 IP Pho...| 907,152|       6|     0,2| 90,7152|         36.0|         494.0|            35.0|       1.0|               3.0|           1278.0|           0.0|     5700.0|           6.0|           1.0|         9013|      9013|        9013|\n",
      "|  BH-11710|CA-2014-115812|OFF-BI-10003910|    9|09/06/2014|14/06/2014|Standard Class|   Brosina Hoffman|   Consumer|United States|    Los Angeles|    California|     90032|   West|Office Supplies|     Binders|DXL Angle-View Bi...|  18,504|       3|     0,2|  5,7825|         36.0|         494.0|            35.0|       1.0|               0.0|             88.0|           0.0|     2954.0|           0.0|           1.0|         8895|      8895|        8895|\n",
      "|  BH-11710|CA-2014-115812|OFF-AP-10002892|   10|09/06/2014|14/06/2014|Standard Class|   Brosina Hoffman|   Consumer|United States|    Los Angeles|    California|     90032|   West|Office Supplies|  Appliances|Belkin F5C206VTEL...|   114,9|       5|       0|   34,47|         36.0|         494.0|            35.0|       1.0|               8.0|            396.0|           0.0|      916.0|           2.0|           0.0|         3844|      3844|        3844|\n",
      "|  BH-11710|CA-2014-115812|FUR-TA-10001539|   11|09/06/2014|14/06/2014|Standard Class|   Brosina Hoffman|   Consumer|United States|    Los Angeles|    California|     90032|   West|      Furniture|      Tables|Chromcraft Rectan...|1706,184|       9|     0,2| 85,3092|         36.0|         494.0|            35.0|       1.0|              10.0|            145.0|           0.0|     2897.0|           7.0|           1.0|         9270|      9270|        9270|\n",
      "|  BH-11710|CA-2014-115812|TEC-PH-10002033|   12|09/06/2014|14/06/2014|Standard Class|   Brosina Hoffman|   Consumer|United States|    Los Angeles|    California|     90032|   West|     Technology|      Phones|Konftel 250 Confe...| 911,424|       4|     0,2| 68,3568|         36.0|         494.0|            35.0|       1.0|               3.0|           1256.0|           0.0|     5717.0|           3.0|           1.0|         6231|      6231|        6231|\n",
      "|  AA-10480|CA-2017-114412|OFF-PA-10002365|   13|15/04/2017|20/04/2017|Standard Class|      Andrew Allen|   Consumer|United States|        Concord|North Carolina|     28027|  South|Office Supplies|       Paper|          Xerox 1967|  15,552|       3|     0,2|  5,4432|       4035.0|         824.0|           363.0|      48.0|               1.0|           1072.0|           0.0|        1.0|           0.0|           1.0|         6807|      6807|        6807|\n",
      "|  IM-15070|CA-2016-161389|OFF-BI-10003656|   14|05/12/2016|10/12/2016|Standard Class|      Irene Maddox|   Consumer|United States|        Seattle|    Washington|     98103|   West|Office Supplies|     Binders|Fellowes PB200 Pl...| 407,976|       3|     0,2|132,5922|       3811.0|         127.0|            77.0|       4.0|               0.0|            155.0|           0.0|     4340.0|           0.0|           1.0|         4550|      4550|        4550|\n",
      "|  HP-14815|US-2015-118983|OFF-AP-10002311|   15|22/11/2015|26/11/2015|Standard Class|     Harold Pawlan|Home Office|United States|     Fort Worth|         Texas|     76106|Central|Office Supplies|  Appliances|Holmes Replacemen...|   68,81|       5|     0,8|-123,858|       2337.0|         224.0|           487.0|      59.0|               8.0|            102.0|           0.0|     5222.0|           2.0|           3.0|         7190|      7190|        7190|\n",
      "|  HP-14815|US-2015-118983|OFF-BI-10000756|   16|22/11/2015|26/11/2015|Standard Class|     Harold Pawlan|Home Office|United States|     Fort Worth|         Texas|     76106|Central|Office Supplies|     Binders|Storex DuraTech R...|   2,544|       3|     0,8|  -3,816|       2337.0|         224.0|           487.0|      59.0|               0.0|            333.0|           0.0|     3118.0|           0.0|           3.0|         6417|      6417|        6417|\n",
      "|  PK-19075|CA-2014-105893|OFF-ST-10004186|   17|11/11/2014|18/11/2014|Standard Class|         Pete Kriz|   Consumer|United States|        Madison|     Wisconsin|     53711|Central|Office Supplies|     Storage|\"Stur-D-Stor Shel...|  665,88|       6|       0| 13,3176|       2516.0|         138.0|            32.0|     160.0|               4.0|            826.0|           0.0|     1794.0|           6.0|           0.0|         3634|      3634|        3634|\n",
      "|  AG-10270|CA-2014-167164|OFF-ST-10000107|   18|13/05/2014|15/05/2014|  Second Class|   Alejandro Grove|   Consumer|United States|    West Jordan|          Utah|     84084|   West|Office Supplies|     Storage|Fellowes Super St...|    55,5|       2|       0|    9,99|       2847.0|         167.0|           259.0|     299.0|               4.0|           1215.0|           1.0|     4854.0|           1.0|           0.0|         7032|      7032|        7032|\n",
      "|  ZD-21925|CA-2014-143336|OFF-AR-10003056|   19|27/08/2014|01/09/2014|  Second Class|Zuschuss Donatelli|   Consumer|United States|  San Francisco|    California|     94109|   West|Office Supplies|         Art|          Newell 341|    8,56|       2|       0|  2,4824|        707.0|         460.0|           575.0|       3.0|               5.0|            474.0|           1.0|       48.0|           1.0|           0.0|         6976|      6976|        6976|\n",
      "|  ZD-21925|CA-2014-143336|TEC-PH-10001949|   20|27/08/2014|01/09/2014|  Second Class|Zuschuss Donatelli|   Consumer|United States|  San Francisco|    California|     94109|   West|     Technology|      Phones|Cisco SPA 501G IP...|  213,48|       3|     0,2|  16,011|        707.0|         460.0|           575.0|       3.0|               3.0|           1781.0|           1.0|     3273.0|           0.0|           1.0|         4190|      4190|        4190|\n",
      "+----------+--------------+---------------+-----+----------+----------+--------------+------------------+-----------+-------------+---------------+--------------+----------+-------+---------------+------------+--------------------+--------+--------+--------+--------+-------------+--------------+----------------+----------+------------------+-----------------+--------------+-----------+--------------+--------------+-------------+----------+------------+\n",
      "only showing top 20 rows\n",
      "\n"
     ]
    }
   ],
   "source": [
    "\n",
    "\n",
    "def add_reference_ids(df, columns_to_reference):\n",
    "\n",
    "    temp_df = df.select(columns_to_reference).distinct()\n",
    "    for column in columns_to_reference:\n",
    "        temp_df = temp_df.withColumn(column + \"REF\", monotonically_increasing_id())\n",
    "\n",
    "    result_df = df.join(temp_df, on=columns_to_reference, how=\"left\")\n",
    "\n",
    "    return result_df\n",
    "\n",
    "\n",
    "columns_to_reference = [\"CustomerID\", \"OrderID\", \"ProductID\"]\n",
    "\n",
    "\n",
    "df_with_refs = add_reference_ids(df, columns_to_reference)\n",
    "\n",
    "\n",
    "df_with_refs.show()\n"
   ]
  },
  {
   "cell_type": "code",
   "execution_count": 31,
   "metadata": {},
   "outputs": [
    {
     "name": "stdout",
     "output_type": "stream",
     "text": [
      "+----------+--------------+---------------+-----+----------+----------+--------------+---------------+---------+-------------+---------------+----------+----------+------+---------------+------------+--------------------+--------+--------+--------+--------+-------------+--------------+----------------+----------+------------------+-----------------+--------------+-----------+--------------+--------------+-------------+----------+------------+\n",
      "|CustomerID|       OrderID|      ProductID|RowID| OrderDate|  ShipDate|      ShipMode|   CustomerName|  Segment|      Country|           City|     State|PostalCode|Region|       Category|Sub-Category|         ProductName|   Sales|Quantity|Discount|  Profit|OrderID_index|ShipDate_index|CustomerID_index|City_index|Sub-Category_index|ProductName_index|ShipMode_index|Sales_index|Quantity_index|Discount_index|CustomerIDREF|OrderIDREF|ProductIDREF|\n",
      "+----------+--------------+---------------+-----+----------+----------+--------------+---------------+---------+-------------+---------------+----------+----------+------+---------------+------------+--------------------+--------+--------+--------+--------+-------------+--------------+----------------+----------+------------------+-----------------+--------------+-----------+--------------+--------------+-------------+----------+------------+\n",
      "|  CG-12520|CA-2016-152156|FUR-BO-10001798|    1|08/11/2016|11/11/2016|  Second Class|    Claire Gute| Consumer|United States|      Henderson|  Kentucky|     42420| South|      Furniture|   Bookcases|Bush Somerset Col...|  261,96|       2|       0| 41,9136|       1854.0|        1018.0|           717.0|      26.0|              12.0|           1178.0|           1.0|     1296.0|           1.0|           0.0|         4320|      4320|        4320|\n",
      "|  CG-12520|CA-2016-152156|FUR-CH-10000454|    2|08/11/2016|11/11/2016|  Second Class|    Claire Gute| Consumer|United States|      Henderson|  Kentucky|     42420| South|      Furniture|      Chairs|Hon Deluxe Fabric...|  731,94|       3|       0| 219,582|       1854.0|        1018.0|           717.0|      26.0|               7.0|             37.0|           1.0|     5358.0|           0.0|           0.0|         8959|      8959|        8959|\n",
      "|  DV-13045|CA-2016-138688|OFF-LA-10000240|    3|12/06/2016|16/06/2016|  Second Class|Darrin Van Huff|Corporate|United States|    Los Angeles|California|     90036|  West|Office Supplies|      Labels|Self-Adhesive Add...|   14,62|       2|       0|  6,8714|       3623.0|         204.0|           539.0|       1.0|               9.0|            512.0|           1.0|       13.0|           1.0|           0.0|         3289|      3289|        3289|\n",
      "|  SO-20335|US-2015-108966|FUR-TA-10000577|    4|11/10/2015|18/10/2015|Standard Class| Sean O'Donnell| Consumer|United States|Fort Lauderdale|   Florida|     33311| South|      Furniture|      Tables|Bretford CR4500 S...|957,5775|       5|    0,45|-383,031|       2329.0|        1159.0|           251.0|     107.0|              10.0|            246.0|           0.0|     5770.0|           2.0|          11.0|          377|       377|         377|\n",
      "+----------+--------------+---------------+-----+----------+----------+--------------+---------------+---------+-------------+---------------+----------+----------+------+---------------+------------+--------------------+--------+--------+--------+--------+-------------+--------------+----------------+----------+------------------+-----------------+--------------+-----------+--------------+--------------+-------------+----------+------------+\n",
      "only showing top 4 rows\n",
      "\n"
     ]
    },
    {
     "data": {
      "text/plain": [
       "[('CustomerIDREF', 'bigint'),\n",
       " ('OrderIDREF', 'bigint'),\n",
       " ('ProductIDREF', 'bigint'),\n",
       " ('Quantity', 'int')]"
      ]
     },
     "execution_count": 31,
     "metadata": {},
     "output_type": "execute_result"
    }
   ],
   "source": [
    "df_with_refs.show(4)\n",
    "\n",
    "df = df_with_refs.select(\"CustomerIDREF\",\"OrderIDREF\",\"ProductIDREF\",\"Quantity\")\n",
    "df.dtypes"
   ]
  },
  {
   "cell_type": "code",
   "execution_count": 32,
   "metadata": {},
   "outputs": [
    {
     "data": {
      "text/plain": [
       "[('CustomerID', 'string'),\n",
       " ('OrderID', 'string'),\n",
       " ('ProductID', 'string'),\n",
       " ('RowID', 'int'),\n",
       " ('OrderDate', 'string'),\n",
       " ('ShipDate', 'string'),\n",
       " ('ShipMode', 'string'),\n",
       " ('CustomerName', 'string'),\n",
       " ('Segment', 'string'),\n",
       " ('Country', 'string'),\n",
       " ('City', 'string'),\n",
       " ('State', 'string'),\n",
       " ('PostalCode', 'int'),\n",
       " ('Region', 'string'),\n",
       " ('Category', 'string'),\n",
       " ('Sub-Category', 'string'),\n",
       " ('ProductName', 'string'),\n",
       " ('Sales', 'string'),\n",
       " ('Quantity', 'int'),\n",
       " ('Discount', 'string'),\n",
       " ('Profit', 'string'),\n",
       " ('OrderID_index', 'double'),\n",
       " ('ShipDate_index', 'double'),\n",
       " ('CustomerID_index', 'double'),\n",
       " ('City_index', 'double'),\n",
       " ('Sub-Category_index', 'double'),\n",
       " ('ProductName_index', 'double'),\n",
       " ('ShipMode_index', 'double'),\n",
       " ('Sales_index', 'double'),\n",
       " ('Quantity_index', 'double'),\n",
       " ('Discount_index', 'double'),\n",
       " ('CustomerIDREF', 'bigint'),\n",
       " ('OrderIDREF', 'bigint'),\n",
       " ('ProductIDREF', 'bigint')]"
      ]
     },
     "execution_count": 32,
     "metadata": {},
     "output_type": "execute_result"
    }
   ],
   "source": [
    "df_with_refs.dtypes"
   ]
  },
  {
   "cell_type": "code",
   "execution_count": 33,
   "metadata": {},
   "outputs": [
    {
     "name": "stdout",
     "output_type": "stream",
     "text": [
      "Erro Quadrático Médio da Raiz (RMSE): 4.360724578512602\n",
      "+---------+---------+------+\n",
      "|userIndex|itemIndex|rating|\n",
      "+---------+---------+------+\n",
      "+---------+---------+------+\n",
      "\n",
      "+---------+------------------------------------------------------------+-----------------------------------------------------------------------------------------------------------+\n",
      "|userIndex|itemIndex                                                   |rating                                                                                                     |\n",
      "+---------+------------------------------------------------------------+-----------------------------------------------------------------------------------------------------------+\n",
      "|1        |[3827, 4034, 3238, 7889, 7104, 1393, 7014, 5899, 7421, 45]  |[7.40916, 6.263707, 5.967018, 5.618666, 5.1259212, 5.041609, 4.866453, 4.7286024, 4.6685376, 4.598825]     |\n",
      "|3        |[148, 138, 128, 124, 120, 119, 118, 117, 114, 113]          |[0.0, 0.0, 0.0, 0.0, 0.0, 0.0, 0.0, 0.0, 0.0, 0.0]                                                         |\n",
      "|5        |[2331, 3080, 9599, 5440, 4074, 9733, 2267, 8267, 4900, 3373]|[9.41054, 7.486305, 7.286811, 7.1982102, 7.000471, 6.940092, 6.780333, 6.3598495, 6.3337655, 6.245039]     |\n",
      "|6        |[8611, 5719, 3890, 6, 7003, 1513, 2333, 3911, 6352, 9112]   |[6.347473, 6.329491, 6.1206574, 5.9981704, 5.6462197, 5.641487, 5.458519, 5.4310613, 5.430186, 5.3647513]  |\n",
      "|12       |[148, 138, 128, 124, 120, 119, 118, 117, 114, 113]          |[0.0, 0.0, 0.0, 0.0, 0.0, 0.0, 0.0, 0.0, 0.0, 0.0]                                                         |\n",
      "|13       |[6356, 4008, 5754, 5839, 13, 2322, 3977, 7930, 3055, 1203]  |[7.6377053, 6.9315886, 6.2034297, 6.122712, 5.998171, 5.8083835, 5.7778864, 5.551648, 5.36896, 5.365236]   |\n",
      "|16       |[8236, 2392, 5754, 559, 9089, 3373, 9733, 3080, 6592, 5591] |[9.61869, 7.756031, 7.6631765, 6.4860673, 6.379366, 6.2965903, 6.269867, 6.043103, 5.798398, 5.6893253]    |\n",
      "|20       |[3080, 9465, 321, 9435, 2993, 1777, 817, 7681, 682, 8168]   |[6.833902, 6.5272894, 6.4579415, 6.276161, 6.20124, 6.1461234, 5.9105635, 5.8744283, 5.855407, 5.536241]   |\n",
      "|22       |[5033, 8267, 5576, 6634, 6121, 7014, 4346, 7003, 2331, 2267]|[8.14862, 7.12097, 6.41711, 6.4068303, 6.3908596, 6.3368998, 6.0442085, 5.7721343, 5.739769, 5.724691]     |\n",
      "|26       |[3569, 3080, 1803, 4062, 6002, 2993, 3254, 2929, 321, 4829] |[8.133038, 6.729089, 6.223323, 5.781632, 5.6910963, 5.560004, 5.4981594, 5.48254, 5.446635, 5.3184476]     |\n",
      "|27       |[27, 9465, 718, 321, 1135, 1777, 783, 5560, 5534, 3956]     |[7.9986258, 7.123041, 6.88465, 6.742214, 6.6517506, 6.55398, 5.8528547, 5.820536, 5.809476, 5.7966685]     |\n",
      "|28       |[8611, 8652, 1655, 5603, 7868, 4062, 4839, 2333, 4308, 9985]|[6.653161, 6.473079, 6.3871236, 6.1519327, 5.7656827, 5.6819506, 5.6801214, 5.581954, 5.3717213, 5.2706003]|\n",
      "|31       |[5719, 9867, 6206, 1379, 5841, 9482, 8268, 1655, 9152, 3939]|[6.9041896, 6.36591, 5.938459, 5.7008095, 5.5915084, 5.489685, 5.4720397, 5.4684052, 5.301774, 5.1619077]  |\n",
      "|34       |[5033, 2331, 6121, 3080, 5616, 6336, 8731, 3990, 8168, 2198]|[8.858273, 8.2649975, 7.2993436, 6.7416315, 6.7292166, 6.1651483, 5.7643104, 5.758706, 5.468332, 5.3428335]|\n",
      "|40       |[4062, 3714, 4925, 1655, 9333, 6532, 8589, 1777, 9398, 1393]|[7.3059106, 6.2260656, 6.0395193, 5.9034586, 5.8726554, 5.826357, 5.825252, 5.675897, 5.5649257, 5.519345] |\n",
      "|44       |[148, 138, 128, 124, 120, 119, 118, 117, 114, 113]          |[0.0, 0.0, 0.0, 0.0, 0.0, 0.0, 0.0, 0.0, 0.0, 0.0]                                                         |\n",
      "|47       |[682, 1777, 47, 3725, 3378, 9089, 5616, 9465, 5048, 4374]   |[8.617279, 7.06307, 5.9981704, 5.962078, 5.934593, 5.9285183, 5.8640122, 5.793433, 5.4802065, 5.380644]    |\n",
      "|52       |[3714, 4913, 7930, 8611, 3599, 6356, 9089, 1741, 8652, 3464]|[7.4307666, 6.3711605, 6.3490314, 6.221794, 6.2103524, 6.159235, 6.0579624, 5.9365044, 5.918591, 5.910653] |\n",
      "|53       |[148, 138, 128, 124, 120, 119, 118, 117, 114, 113]          |[0.0, 0.0, 0.0, 0.0, 0.0, 0.0, 0.0, 0.0, 0.0, 0.0]                                                         |\n",
      "|57       |[4062, 6957, 9216, 5318, 7249, 8898, 5125, 9811, 7908, 4001]|[8.616739, 5.7747674, 5.6057644, 5.59976, 5.5336304, 5.17682, 5.1695414, 5.0345497, 4.995187, 4.786447]    |\n",
      "+---------+------------------------------------------------------------+-----------------------------------------------------------------------------------------------------------+\n",
      "only showing top 20 rows\n",
      "\n"
     ]
    }
   ],
   "source": [
    "\n",
    "\n",
    "df = df.select([\n",
    "    col_name if col_type == \"string\" else col(col_name).cast(\"string\")\n",
    "    for col_name, col_type in df.dtypes\n",
    "])\n",
    "\n",
    "\n",
    "user_indexer = StringIndexer(inputCol=\"CustomerIDREF\", outputCol=\"userIndex\")\n",
    "item_indexer = StringIndexer(inputCol=\"ProductIDREF\", outputCol=\"itemIndex\")\n",
    "quantity_indexer = StringIndexer(inputCol=\"Quantity\", outputCol=\"rating\")\n",
    "\n",
    "user_indexer_model = user_indexer.fit(df)\n",
    "item_indexer_model = item_indexer.fit(df)\n",
    "quantity_indexer_model = quantity_indexer.fit(df)\n",
    "\n",
    "user_df = user_indexer_model.transform(df)\n",
    "item_df = item_indexer_model.transform(user_df)\n",
    "indexed_df = quantity_indexer_model.transform(item_df)\n",
    "\n",
    "\n",
    "(trainingData, testData) = indexed_df.randomSplit([0.8, 0.2])\n",
    "\n",
    "\n",
    "als = ALS(maxIter=5, regParam=0.01, userCol=\"userIndex\", itemCol=\"itemIndex\", ratingCol=\"rating\",\n",
    "          coldStartStrategy=\"drop\")\n",
    "\n",
    "\n",
    "model = als.fit(trainingData)\n",
    "\n",
    "predictions = model.transform(testData)\n",
    "\n",
    "\n",
    "evaluator = RegressionEvaluator(metricName=\"rmse\", labelCol=\"rating\", predictionCol=\"prediction\")\n",
    "rmse = evaluator.evaluate(predictions)\n",
    "print(\"Erro Quadrático Médio da Raiz (RMSE):\", rmse)\n",
    "\n",
    "\n",
    "user_index = 0\n",
    "user_recommendations = model.recommendForUserSubset(user_df.where(col(\"userIndex\") == user_index), 10)\n",
    "\n",
    "\n",
    "user_recommendations = user_recommendations.select(\"userIndex\", \"recommendations.itemIndex\", \"recommendations.rating\")\n",
    "\n",
    "user_recommendations.show(truncate=False)\n",
    "\n",
    "all_user_recommendations = model.recommendForAllUsers(10)\n",
    "\n",
    "\n",
    "all_user_recommendations = all_user_recommendations.select(\"userIndex\", \"recommendations.itemIndex\", \"recommendations.rating\")\n",
    "\n",
    "all_user_recommendations.show(truncate=False)\n"
   ]
  }
 ],
 "metadata": {
  "kernelspec": {
   "display_name": "venv",
   "language": "python",
   "name": "python3"
  },
  "language_info": {
   "codemirror_mode": {
    "name": "ipython",
    "version": 3
   },
   "file_extension": ".py",
   "mimetype": "text/x-python",
   "name": "python",
   "nbconvert_exporter": "python",
   "pygments_lexer": "ipython3",
   "version": "3.11.5"
  },
  "orig_nbformat": 4
 },
 "nbformat": 4,
 "nbformat_minor": 2
}
